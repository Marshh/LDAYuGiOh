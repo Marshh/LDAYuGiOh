{
 "cells": [
  {
   "cell_type": "markdown",
   "metadata": {},
   "source": [
    "- Retrieve datasets and trim\n",
    "- Do naive search\n",
    "- do TFIDF search\n",
    "- compare the 2 query searches\n",
    "- make LDA model\n",
    "- compare what LDA can tell us \n",
    "- does a shift in rhetorical style affect topic inference? ? ?\n",
    "\n",
    "- gg ez"
   ]
  },
  {
   "cell_type": "code",
   "execution_count": 6,
   "metadata": {},
   "outputs": [
    {
     "name": "stdout",
     "output_type": "stream",
     "text": [
      "10082\n",
      "5965\n"
     ]
    }
   ],
   "source": [
    "import math\n",
    "import numpy as np\n",
    "import matplotlib.pyplot as plt\n",
    "from collections import defaultdict\n",
    "\n",
    "\n",
    "## open the Yu-Gi-Oh! corpus and read each line\n",
    "file = open(\"card_text.txt\", \"r\")\n",
    "card_data = file.readlines()\n",
    "\n",
    "YGOcorpus = list()\n",
    "YGOword_set = list()\n",
    "YGOword_count = defaultdict(int)\n",
    "\n",
    "\n",
    "# loop through each dict in the file, add to YGOcorpus list and keep track of word occurences\n",
    "for card in card_data:\n",
    "    card_dict = eval(card)\n",
    "    YGOcorpus.append(card_dict['Text'])\n",
    "    YGOword_set += (card_dict['Text'])\n",
    "    for word in card_dict['Text']:\n",
    "        YGOword_count[word] +=1\n",
    "    \n",
    "YGOcorpus_size = len(YGOcorpus)\n",
    "\n",
    "# Removes duplicates in YGOword_set\n",
    "YGOword_set_size = len(set(YGOword_set))\n",
    "\n",
    "print(YGOcorpus_size)\n",
    "print(YGOword_set_size)\n",
    "\n",
    "# entire wordset count\n",
    "#print(sorted(YGOword_count.items(), key = lambda x: x[1], reverse = True))\n",
    "\n",
    "YGOwordCards = [dict.fromkeys(YGOword_set,0) for x in range(YGOcorpus_size)]\n",
    "\n",
    "for i in range(YGOcorpus_size):\n",
    "    for word in YGOcorpus[i]:\n",
    "        YGOwordCards[i][word] +=1\n",
    "        \n",
    "# calculate TF, takes in a document's word frequency and the words in the document\n",
    "def TF(wordDocs, text_list):\n",
    "    tf = dict()\n",
    "    \n",
    "    text_list_size = len(text_list)\n",
    "    \n",
    "    for word, count in wordDocs.items():\n",
    "        tf[word] = count/float(text_list_size)\n",
    "        \n",
    "    return tf\n",
    "\n",
    "def IDF(documents):\n",
    "    idf = dict()\n",
    "    \n",
    "    size = len(documents)\n",
    "    \n",
    "    \n",
    "\n",
    "YGOtf_list = [TF(YGOwordCards[x], YGOcorpus[x]) for x in range(YGOcorpus_size)]"
   ]
  },
  {
   "cell_type": "code",
   "execution_count": null,
   "metadata": {},
   "outputs": [],
   "source": []
  }
 ],
 "metadata": {
  "kernelspec": {
   "display_name": "Python 3",
   "language": "python",
   "name": "python3"
  },
  "language_info": {
   "codemirror_mode": {
    "name": "ipython",
    "version": 3
   },
   "file_extension": ".py",
   "mimetype": "text/x-python",
   "name": "python",
   "nbconvert_exporter": "python",
   "pygments_lexer": "ipython3",
   "version": "3.7.3"
  }
 },
 "nbformat": 4,
 "nbformat_minor": 2
}
